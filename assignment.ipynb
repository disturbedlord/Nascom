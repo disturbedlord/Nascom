{
 "cells": [
  {
   "cell_type": "code",
   "execution_count": 5,
   "metadata": {},
   "outputs": [
    {
     "name": "stderr",
     "output_type": "stream",
     "text": [
      "Warning message in file(file, \"rt\"):\n",
      "“cannot open file '/home/mars/Downloads/assignment.csv': No such file or directory”"
     ]
    },
    {
     "ename": "ERROR",
     "evalue": "Error in file(file, \"rt\"): cannot open the connection\n",
     "output_type": "error",
     "traceback": [
      "Error in file(file, \"rt\"): cannot open the connection\nTraceback:\n",
      "1. read.csv(\"/home/mars/Downloads/assignment.csv\")",
      "2. read.table(file = file, header = header, sep = sep, quote = quote, \n .     dec = dec, fill = fill, comment.char = comment.char, ...)",
      "3. file(file, \"rt\")"
     ]
    }
   ],
   "source": [
    "file <- read.csv(\"/home/mars/Downloads/assignment.csv\")"
   ]
  },
  {
   "cell_type": "markdown",
   "metadata": {},
   "source": [
    "# e. Consider the correlation between Spreadsheet and Proofreading.\n",
    "\n",
    " i. What is the value of the correlation coefficient r for this correlation?\n",
    "\n"
   ]
  },
  {
   "cell_type": "code",
   "execution_count": null,
   "metadata": {},
   "outputs": [],
   "source": [
    "s <- file$Spreadsheet\n",
    "p <- file$Proofreading\n",
    "e_i <- cor(s , p) \n",
    "print(e_i)"
   ]
  },
  {
   "cell_type": "markdown",
   "metadata": {},
   "source": [
    "\n",
    "ii. What is the value of tau?\n",
    "\n"
   ]
  },
  {
   "cell_type": "code",
   "execution_count": 1,
   "metadata": {},
   "outputs": [
    {
     "ename": "ERROR",
     "evalue": "Error in parse(text = x, srcfile = src): <text>:3:3: unexpected string constant\n11: -0.5714288 \n12: \"\n      ^\n",
     "output_type": "error",
     "traceback": [
      "Error in parse(text = x, srcfile = src): <text>:3:3: unexpected string constant\n11: -0.5714288 \n12: \"\n      ^\nTraceback:\n"
     ]
    }
   ],
   "source": [
    "tau <- cor.test(file$Spreadsheet , file$Proofreading , method = \"kendall\" , exact = FALSE) \n",
    "\n",
    "print(tau) "
   ]
  },
  {
   "cell_type": "raw",
   "metadata": {},
   "source": [
    "Kendall's rank correlation tau\n",
    "\n",
    "data:  file$Spreadsheet and file$Proofreading\n",
    "z = -4.7539, p-value = 1.995e-06\n",
    "alternative hypothesis: true tau is not equal to 0\n",
    "sample estimates:\n",
    "  tau \n",
    "-0.5714288 "
   ]
  },
  {
   "cell_type": "markdown",
   "metadata": {},
   "source": [
    "iii. What is the value of rho?\n",
    "\n"
   ]
  },
  {
   "cell_type": "code",
   "execution_count": 2,
   "metadata": {},
   "outputs": [
    {
     "ename": "ERROR",
     "evalue": "Error in parse(text = x, srcfile = src): <text>:3:3: unexpected string constant\n13: \n14: \"\n      ^\n",
     "output_type": "error",
     "traceback": [
      "Error in parse(text = x, srcfile = src): <text>:3:3: unexpected string constant\n13: \n14: \"\n      ^\nTraceback:\n"
     ]
    }
   ],
   "source": [
    "rho <- cor.test(file$Spreadsheet , file$Proofreading , method = \"spearman\" , exact = FALSE)\n",
    "\n",
    "\n",
    "print(rho)"
   ]
  },
  {
   "cell_type": "raw",
   "metadata": {},
   "source": [
    "Spearman's rank correlation rho\n",
    "\n",
    "data:  file$Spreadsheet and file$Proofreading\n",
    "S = 12446, p-value = 3.179e-07\n",
    "alternative hypothesis: true rho is not equal to 0\n",
    "sample estimates:\n",
    "       rho \n",
    "-0.7430736"
   ]
  },
  {
   "cell_type": "markdown",
   "metadata": {},
   "source": [
    "# f. Conduct a linear regression of Proofreading vs. Words.per.minute.\n",
    "\n",
    "i. What is the p-value for this model?\n",
    "\n",
    "ii. What is the r-squared value?\n"
   ]
  },
  {
   "cell_type": "code",
   "execution_count": 4,
   "metadata": {},
   "outputs": [
    {
     "ename": "ERROR",
     "evalue": "Error in parse(text = x, srcfile = src): <text>:6:3: unexpected string constant\n25: \n26: \"\n      ^\n",
     "output_type": "error",
     "traceback": [
      "Error in parse(text = x, srcfile = src): <text>:6:3: unexpected string constant\n25: \n26: \"\n      ^\nTraceback:\n"
     ]
    }
   ],
   "source": [
    "w <- file$Words_per_minute\n",
    "lr <- lm(p ~ w)\n",
    "\n",
    "print(summary(lr)) "
   ]
  },
  {
   "cell_type": "raw",
   "metadata": {},
   "source": [
    "Call:\n",
    "lm(formula = p ~ w)\n",
    "\n",
    "Residuals:\n",
    "     Min       1Q   Median       3Q      Max \n",
    "-16.7491  -6.0025   0.0176   6.8742  12.0042 \n",
    "\n",
    "Coefficients:\n",
    "            Estimate Std. Error t value Pr(>|t|)    \n",
    "(Intercept)  19.7090    10.0436   1.962   0.0582 .  \n",
    "w             0.9507     0.1622   5.860 1.46e-06 ***\n",
    "---\n",
    "Signif. codes:  0 ‘***’ 0.001 ‘**’ 0.01 ‘*’ 0.05 ‘.’ 0.1 ‘ ’ 1\n",
    "\n",
    "Residual standard error: 8.419 on 33 degrees of freedom\n",
    "Multiple R-squared:   0.51,\tAdjusted R-squared:  0.4951 \n",
    "F-statistic: 34.34 on 1 and 33 DF,  p-value: 1.457e-06"
   ]
  },
  {
   "cell_type": "code",
   "execution_count": null,
   "metadata": {},
   "outputs": [],
   "source": []
  }
 ],
 "metadata": {
  "kernelspec": {
   "display_name": "R",
   "language": "R",
   "name": "ir"
  },
  "language_info": {
   "codemirror_mode": "r",
   "file_extension": ".r",
   "mimetype": "text/x-r-source",
   "name": "R",
   "pygments_lexer": "r",
   "version": "3.6.2"
  }
 },
 "nbformat": 4,
 "nbformat_minor": 2
}
